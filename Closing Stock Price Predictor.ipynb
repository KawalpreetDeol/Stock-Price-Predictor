{
 "cells": [
  {
   "cell_type": "code",
   "execution_count": null,
   "metadata": {},
   "outputs": [],
   "source": [
    "# This program utilizes the Long Short Term Memory (LSTM) method to\n",
    "# predict the stock chart for a particular corporation."
   ]
  },
  {
   "cell_type": "code",
   "execution_count": 37,
   "metadata": {},
   "outputs": [],
   "source": [
    "# libraries\n",
    "import math\n",
    "import pandas_datareader as web\n",
    "import numpy as np\n",
    "import pandas as pd\n",
    "from sklearn.preprocessing import MinMaxScaler\n",
    "from keras.models import Sequential\n",
    "from keras.layers import Dense, LSTM\n",
    "import matplotlib.pyplot as plt\n",
    "plt.style.use('fivethirtyeight')\n",
    "import warnings\n",
    "warnings.filterwarnings('ignore')"
   ]
  },
  {
   "cell_type": "code",
   "execution_count": 8,
   "metadata": {},
   "outputs": [
    {
     "data": {
      "text/html": [
       "<div>\n",
       "<style scoped>\n",
       "    .dataframe tbody tr th:only-of-type {\n",
       "        vertical-align: middle;\n",
       "    }\n",
       "\n",
       "    .dataframe tbody tr th {\n",
       "        vertical-align: top;\n",
       "    }\n",
       "\n",
       "    .dataframe thead th {\n",
       "        text-align: right;\n",
       "    }\n",
       "</style>\n",
       "<table border=\"1\" class=\"dataframe\">\n",
       "  <thead>\n",
       "    <tr style=\"text-align: right;\">\n",
       "      <th></th>\n",
       "      <th>High</th>\n",
       "      <th>Low</th>\n",
       "      <th>Open</th>\n",
       "      <th>Close</th>\n",
       "      <th>Volume</th>\n",
       "      <th>Adj Close</th>\n",
       "    </tr>\n",
       "    <tr>\n",
       "      <th>Date</th>\n",
       "      <th></th>\n",
       "      <th></th>\n",
       "      <th></th>\n",
       "      <th></th>\n",
       "      <th></th>\n",
       "      <th></th>\n",
       "    </tr>\n",
       "  </thead>\n",
       "  <tbody>\n",
       "    <tr>\n",
       "      <td>2012-01-03</td>\n",
       "      <td>26.959999</td>\n",
       "      <td>26.389999</td>\n",
       "      <td>26.549999</td>\n",
       "      <td>26.770000</td>\n",
       "      <td>64731500.0</td>\n",
       "      <td>21.707487</td>\n",
       "    </tr>\n",
       "    <tr>\n",
       "      <td>2012-01-04</td>\n",
       "      <td>27.469999</td>\n",
       "      <td>26.780001</td>\n",
       "      <td>26.820000</td>\n",
       "      <td>27.400000</td>\n",
       "      <td>80516100.0</td>\n",
       "      <td>22.218348</td>\n",
       "    </tr>\n",
       "    <tr>\n",
       "      <td>2012-01-05</td>\n",
       "      <td>27.730000</td>\n",
       "      <td>27.290001</td>\n",
       "      <td>27.379999</td>\n",
       "      <td>27.680000</td>\n",
       "      <td>56081400.0</td>\n",
       "      <td>22.445396</td>\n",
       "    </tr>\n",
       "    <tr>\n",
       "      <td>2012-01-06</td>\n",
       "      <td>28.190001</td>\n",
       "      <td>27.530001</td>\n",
       "      <td>27.530001</td>\n",
       "      <td>28.110001</td>\n",
       "      <td>99455500.0</td>\n",
       "      <td>22.794075</td>\n",
       "    </tr>\n",
       "    <tr>\n",
       "      <td>2012-01-09</td>\n",
       "      <td>28.100000</td>\n",
       "      <td>27.719999</td>\n",
       "      <td>28.049999</td>\n",
       "      <td>27.740000</td>\n",
       "      <td>59706800.0</td>\n",
       "      <td>22.494045</td>\n",
       "    </tr>\n",
       "    <tr>\n",
       "      <td>...</td>\n",
       "      <td>...</td>\n",
       "      <td>...</td>\n",
       "      <td>...</td>\n",
       "      <td>...</td>\n",
       "      <td>...</td>\n",
       "      <td>...</td>\n",
       "    </tr>\n",
       "    <tr>\n",
       "      <td>2021-09-13</td>\n",
       "      <td>298.540009</td>\n",
       "      <td>294.079987</td>\n",
       "      <td>297.549988</td>\n",
       "      <td>296.989990</td>\n",
       "      <td>23652900.0</td>\n",
       "      <td>296.989990</td>\n",
       "    </tr>\n",
       "    <tr>\n",
       "      <td>2021-09-14</td>\n",
       "      <td>301.390015</td>\n",
       "      <td>298.100006</td>\n",
       "      <td>299.559998</td>\n",
       "      <td>299.790009</td>\n",
       "      <td>21853400.0</td>\n",
       "      <td>299.790009</td>\n",
       "    </tr>\n",
       "    <tr>\n",
       "      <td>2021-09-15</td>\n",
       "      <td>305.320007</td>\n",
       "      <td>301.820007</td>\n",
       "      <td>303.260010</td>\n",
       "      <td>304.820007</td>\n",
       "      <td>28356300.0</td>\n",
       "      <td>304.820007</td>\n",
       "    </tr>\n",
       "    <tr>\n",
       "      <td>2021-09-16</td>\n",
       "      <td>305.309998</td>\n",
       "      <td>300.760010</td>\n",
       "      <td>303.760010</td>\n",
       "      <td>305.220001</td>\n",
       "      <td>19550800.0</td>\n",
       "      <td>305.220001</td>\n",
       "    </tr>\n",
       "    <tr>\n",
       "      <td>2021-09-17</td>\n",
       "      <td>304.500000</td>\n",
       "      <td>299.529999</td>\n",
       "      <td>304.170013</td>\n",
       "      <td>299.869995</td>\n",
       "      <td>41309300.0</td>\n",
       "      <td>299.869995</td>\n",
       "    </tr>\n",
       "  </tbody>\n",
       "</table>\n",
       "<p>2444 rows × 6 columns</p>\n",
       "</div>"
      ],
      "text/plain": [
       "                  High         Low        Open       Close      Volume  \\\n",
       "Date                                                                     \n",
       "2012-01-03   26.959999   26.389999   26.549999   26.770000  64731500.0   \n",
       "2012-01-04   27.469999   26.780001   26.820000   27.400000  80516100.0   \n",
       "2012-01-05   27.730000   27.290001   27.379999   27.680000  56081400.0   \n",
       "2012-01-06   28.190001   27.530001   27.530001   28.110001  99455500.0   \n",
       "2012-01-09   28.100000   27.719999   28.049999   27.740000  59706800.0   \n",
       "...                ...         ...         ...         ...         ...   \n",
       "2021-09-13  298.540009  294.079987  297.549988  296.989990  23652900.0   \n",
       "2021-09-14  301.390015  298.100006  299.559998  299.790009  21853400.0   \n",
       "2021-09-15  305.320007  301.820007  303.260010  304.820007  28356300.0   \n",
       "2021-09-16  305.309998  300.760010  303.760010  305.220001  19550800.0   \n",
       "2021-09-17  304.500000  299.529999  304.170013  299.869995  41309300.0   \n",
       "\n",
       "             Adj Close  \n",
       "Date                    \n",
       "2012-01-03   21.707487  \n",
       "2012-01-04   22.218348  \n",
       "2012-01-05   22.445396  \n",
       "2012-01-06   22.794075  \n",
       "2012-01-09   22.494045  \n",
       "...                ...  \n",
       "2021-09-13  296.989990  \n",
       "2021-09-14  299.790009  \n",
       "2021-09-15  304.820007  \n",
       "2021-09-16  305.220001  \n",
       "2021-09-17  299.869995  \n",
       "\n",
       "[2444 rows x 6 columns]"
      ]
     },
     "execution_count": 8,
     "metadata": {},
     "output_type": "execute_result"
    }
   ],
   "source": [
    "# Get Stock Quote\n",
    "stock_ticker = 'AAPL'\n",
    "df = web.DataReader(stock_ticker, data_source='yahoo', start='2012-01-01', end='2021-09-20')\n",
    "# Display Data\n",
    "df "
   ]
  },
  {
   "cell_type": "code",
   "execution_count": 9,
   "metadata": {},
   "outputs": [
    {
     "data": {
      "text/plain": [
       "(2444, 6)"
      ]
     },
     "execution_count": 9,
     "metadata": {},
     "output_type": "execute_result"
    }
   ],
   "source": [
    "# Get the number of rows and columns in the data set\n",
    "df.shape"
   ]
  },
  {
   "cell_type": "code",
   "execution_count": 10,
   "metadata": {},
   "outputs": [
    {
     "name": "stderr",
     "output_type": "stream",
     "text": [
      "C:\\Users\\kawal\\Anaconda3\\lib\\site-packages\\pandas\\plotting\\_matplotlib\\converter.py:103: FutureWarning: Using an implicitly registered datetime converter for a matplotlib plotting method. The converter was registered by pandas on import. Future versions of pandas will require you to explicitly register matplotlib converters.\n",
      "\n",
      "To register the converters:\n",
      "\t>>> from pandas.plotting import register_matplotlib_converters\n",
      "\t>>> register_matplotlib_converters()\n",
      "  warnings.warn(msg, FutureWarning)\n"
     ]
    },
    {
     "data": {
      "image/png": "[encoded data removed]",
      "text/plain": [
       "<Figure size 1152x576 with 1 Axes>"
      ]
     },
     "metadata": {
      "needs_background": "light"
     },
     "output_type": "display_data"
    }
   ],
   "source": [
    "# Visualize the closing price \n",
    "plt.figure(figsize=(16,8))\n",
    "plt.title('Close Price History')\n",
    "plt.plot(df['Close'])\n",
    "plt.xlabel('Date', fontsize=18)\n",
    "plt.ylabel('Close Price USD ($)', fontsize=18)\n",
    "plt.show()"
   ]
  },
  {
   "cell_type": "code",
   "execution_count": 11,
   "metadata": {},
   "outputs": [
    {
     "data": {
      "text/plain": [
       "1956"
      ]
     },
     "execution_count": 11,
     "metadata": {},
     "output_type": "execute_result"
    }
   ],
   "source": [
    "# Create a new dataframe with only the 'Close column'\n",
    "data = df.filter(['Close'])\n",
    "# Convert the dataframe to a numpy array\n",
    "dataset = data.values\n",
    "# Get the number of rows to train the model on\n",
    "training_data_len = math.ceil(len(dataset) * 0.8)\n",
    "\n",
    "training_data_len"
   ]
  },
  {
   "cell_type": "code",
   "execution_count": 12,
   "metadata": {},
   "outputs": [
    {
     "data": {
      "text/plain": [
       "array([[0.00143446],\n",
       "       [0.00369374],\n",
       "       [0.00469786],\n",
       "       ...,\n",
       "       [0.99856556],\n",
       "       [1.        ],\n",
       "       [0.98081404]])"
      ]
     },
     "execution_count": 12,
     "metadata": {},
     "output_type": "execute_result"
    }
   ],
   "source": [
    "# Scale the data - apply preprocessing/scaling normalization\n",
    "scaler = MinMaxScaler(feature_range=(0,1))\n",
    "scaled_data = scaler.fit_transform(dataset)\n",
    "\n",
    "scaled_data"
   ]
  },
  {
   "cell_type": "code",
   "execution_count": 16,
   "metadata": {},
   "outputs": [
    {
     "name": "stdout",
     "output_type": "stream",
     "text": [
      "[array([0.00143446, 0.00369374, 0.00469786, 0.00623991, 0.00491303,\n",
      "       0.00527165, 0.00484131, 0.00584543, 0.00674197, 0.00677784,\n",
      "       0.00667025, 0.00627578, 0.01197776, 0.01204948, 0.01065089,\n",
      "       0.01143984, 0.01122467, 0.01025641, 0.01161915, 0.01133226,\n",
      "       0.01262327, 0.01283844, 0.01387843, 0.01373498, 0.0142729 ,\n",
      "       0.01538461, 0.01577909, 0.01481083, 0.01509772, 0.01391429,\n",
      "       0.01319705, 0.01764389, 0.01750045, 0.01818182, 0.01757217,\n",
      "       0.01793079, 0.01832526, 0.01785906, 0.01972387, 0.01925766,\n",
      "       0.02123005, 0.02047696, 0.01947283, 0.01861215, 0.01961628,\n",
      "       0.02022592, 0.0201542 , 0.02033351, 0.02259278, 0.02295141,\n",
      "       0.02323829, 0.02234175, 0.0209073 , 0.0201542 , 0.01986731,\n",
      "       0.02019006, 0.02022592, 0.0223059 , 0.02205487, 0.02087143])]\n",
      "[0.02062039836752845]\n",
      "\n"
     ]
    }
   ],
   "source": [
    "# Create the training data set\n",
    "# Create the scaled training data set\n",
    "\n",
    "train_data = scaled_data[0:training_data_len, :]\n",
    "\n",
    "# Split the data into x_train and y_train data sets\n",
    "x_train = []\n",
    "y_train = []\n",
    "\n",
    "for i in range(60, len(train_data)):\n",
    "    x_train.append(train_data[i-60:i, 0])\n",
    "    y_train.append(train_data[i, 0])\n",
    "    if i<= 60:\n",
    "        print(x_train)\n",
    "        print(y_train)\n",
    "        print()"
   ]
  },
  {
   "cell_type": "code",
   "execution_count": 17,
   "metadata": {},
   "outputs": [],
   "source": [
    "# Convert the x_train and y_train to numpy arrays, so that we can train the LSTM model\n",
    "\n",
    "x_train, y_train = np.array(x_train), np.array(y_train)"
   ]
  },
  {
   "cell_type": "code",
   "execution_count": 18,
   "metadata": {},
   "outputs": [
    {
     "data": {
      "text/plain": [
       "(1896, 60, 1)"
      ]
     },
     "execution_count": 18,
     "metadata": {},
     "output_type": "execute_result"
    }
   ],
   "source": [
    "# Reshape the data, so that we can change the shape from 2 dimensions to 3\n",
    "\n",
    "x_train = np.reshape(x_train, (x_train.shape[0], x_train.shape[1], 1))\n",
    "x_train.shape"
   ]
  },
  {
   "cell_type": "code",
   "execution_count": 20,
   "metadata": {},
   "outputs": [],
   "source": [
    "# Build the LSTM model\n",
    "model = Sequential()\n",
    "model.add(LSTM(50, return_sequences=True, input_shape=(x_train.shape[1], 1)))\n",
    "model.add(LSTM(50, return_sequences=False))\n",
    "model.add(Dense(25))\n",
    "model.add(Dense(1))"
   ]
  },
  {
   "cell_type": "code",
   "execution_count": 21,
   "metadata": {},
   "outputs": [],
   "source": [
    "# Compile the model\n",
    "model.compile(optimizer='adam', loss='mean_squared_error')"
   ]
  },
  {
   "cell_type": "code",
   "execution_count": 22,
   "metadata": {},
   "outputs": [
    {
     "name": "stdout",
     "output_type": "stream",
     "text": [
      "Epoch 1/1\n",
      "1896/1896 [==============================] - 106s 56ms/step - loss: 2.1637e-04\n"
     ]
    },
    {
     "data": {
      "text/plain": [
       "<keras.callbacks.callbacks.History at 0x1c247608c48>"
      ]
     },
     "execution_count": 22,
     "metadata": {},
     "output_type": "execute_result"
    }
   ],
   "source": [
    "# Train the model\n",
    "model.fit(x_train, y_train, batch_size=1, epochs=1)"
   ]
  },
  {
   "cell_type": "code",
   "execution_count": 26,
   "metadata": {},
   "outputs": [],
   "source": [
    "# Create the testing data set \n",
    "# Create a new array containing scaled values from index 1896 to 2444\n",
    "\n",
    "test_data = scaled_data[training_data_len - 60:, :]\n",
    "\n",
    "# Create the data sets x_test and y_test\n",
    "x_test = []\n",
    "y_test = dataset[training_data_len:, :]\n",
    "for i in range(60, len(test_data)):\n",
    "    x_test.append(test_data[i-60:i, 0])\n",
    "    "
   ]
  },
  {
   "cell_type": "code",
   "execution_count": 27,
   "metadata": {},
   "outputs": [],
   "source": [
    "# Convert the data to a numpy array\n",
    "x_test = np.array(x_test)"
   ]
  },
  {
   "cell_type": "code",
   "execution_count": 28,
   "metadata": {},
   "outputs": [],
   "source": [
    "# Reshape the data from 2 dimensions to 3\n",
    "x_test = np.reshape(x_test, (x_test.shape[0], x_test.shape[1], 1))"
   ]
  },
  {
   "cell_type": "code",
   "execution_count": 29,
   "metadata": {},
   "outputs": [],
   "source": [
    "# Get the model's predicted price values\n",
    "predictions = model.predict(x_test)\n",
    "predictions = scaler.inverse_transform(predictions)"
   ]
  },
  {
   "cell_type": "code",
   "execution_count": 30,
   "metadata": {},
   "outputs": [
    {
     "data": {
      "text/plain": [
       "4.492403937167809"
      ]
     },
     "execution_count": 30,
     "metadata": {},
     "output_type": "execute_result"
    }
   ],
   "source": [
    "# Get the root mean squared error (RMSE)\n",
    "rmse = np.sqrt(np.mean(predictions-y_test)**2)\n",
    "rmse"
   ]
  },
  {
   "cell_type": "code",
   "execution_count": 32,
   "metadata": {},
   "outputs": [
    {
     "name": "stderr",
     "output_type": "stream",
     "text": [
      "C:\\Users\\kawal\\Anaconda3\\lib\\site-packages\\ipykernel_launcher.py:4: SettingWithCopyWarning: \n",
      "A value is trying to be set on a copy of a slice from a DataFrame.\n",
      "Try using .loc[row_indexer,col_indexer] = value instead\n",
      "\n",
      "See the caveats in the documentation: http://pandas.pydata.org/pandas-docs/stable/user_guide/indexing.html#returning-a-view-versus-a-copy\n",
      "  after removing the cwd from sys.path.\n"
     ]
    },
    {
     "data": {
      "image/png": "[encoded data removed]",
      "text/plain": [
       "<Figure size 1152x576 with 1 Axes>"
      ]
     },
     "metadata": {
      "needs_background": "light"
     },
     "output_type": "display_data"
    }
   ],
   "source": [
    "# Plot the data\n",
    "train = data[:training_data_len]\n",
    "valid = data[training_data_len:]\n",
    "valid['Predictions'] = predictions\n",
    "\n",
    "# Visualize the data\n",
    "plt.figure(figsize=(16,8))\n",
    "plt.title('Model')\n",
    "plt.xlabel('Date', fontsize=18)\n",
    "plt.ylabel('Close Price USD ($)', fontsize=18)\n",
    "plt.plot(train['Close'])\n",
    "plt.plot(valid[['Close', 'Predictions']])\n",
    "plt.legend(['Train', 'Val', 'Predictions'], loc='lower right')\n",
    "plt.show()"
   ]
  },
  {
   "cell_type": "code",
   "execution_count": 33,
   "metadata": {},
   "outputs": [
    {
     "data": {
      "text/html": [
       "<div>\n",
       "<style scoped>\n",
       "    .dataframe tbody tr th:only-of-type {\n",
       "        vertical-align: middle;\n",
       "    }\n",
       "\n",
       "    .dataframe tbody tr th {\n",
       "        vertical-align: top;\n",
       "    }\n",
       "\n",
       "    .dataframe thead th {\n",
       "        text-align: right;\n",
       "    }\n",
       "</style>\n",
       "<table border=\"1\" class=\"dataframe\">\n",
       "  <thead>\n",
       "    <tr style=\"text-align: right;\">\n",
       "      <th></th>\n",
       "      <th>Close</th>\n",
       "      <th>Predictions</th>\n",
       "    </tr>\n",
       "    <tr>\n",
       "      <th>Date</th>\n",
       "      <th></th>\n",
       "      <th></th>\n",
       "    </tr>\n",
       "  </thead>\n",
       "  <tbody>\n",
       "    <tr>\n",
       "      <td>2019-10-11</td>\n",
       "      <td>139.679993</td>\n",
       "      <td>144.558411</td>\n",
       "    </tr>\n",
       "    <tr>\n",
       "      <td>2019-10-14</td>\n",
       "      <td>139.550003</td>\n",
       "      <td>144.816238</td>\n",
       "    </tr>\n",
       "    <tr>\n",
       "      <td>2019-10-15</td>\n",
       "      <td>141.570007</td>\n",
       "      <td>145.100037</td>\n",
       "    </tr>\n",
       "    <tr>\n",
       "      <td>2019-10-16</td>\n",
       "      <td>140.410004</td>\n",
       "      <td>145.548706</td>\n",
       "    </tr>\n",
       "    <tr>\n",
       "      <td>2019-10-17</td>\n",
       "      <td>139.690002</td>\n",
       "      <td>145.937302</td>\n",
       "    </tr>\n",
       "    <tr>\n",
       "      <td>...</td>\n",
       "      <td>...</td>\n",
       "      <td>...</td>\n",
       "    </tr>\n",
       "    <tr>\n",
       "      <td>2021-09-13</td>\n",
       "      <td>296.989990</td>\n",
       "      <td>298.814392</td>\n",
       "    </tr>\n",
       "    <tr>\n",
       "      <td>2021-09-14</td>\n",
       "      <td>299.790009</td>\n",
       "      <td>298.404297</td>\n",
       "    </tr>\n",
       "    <tr>\n",
       "      <td>2021-09-15</td>\n",
       "      <td>304.820007</td>\n",
       "      <td>298.267792</td>\n",
       "    </tr>\n",
       "    <tr>\n",
       "      <td>2021-09-16</td>\n",
       "      <td>305.220001</td>\n",
       "      <td>298.647705</td>\n",
       "    </tr>\n",
       "    <tr>\n",
       "      <td>2021-09-17</td>\n",
       "      <td>299.869995</td>\n",
       "      <td>299.235352</td>\n",
       "    </tr>\n",
       "  </tbody>\n",
       "</table>\n",
       "<p>488 rows × 2 columns</p>\n",
       "</div>"
      ],
      "text/plain": [
       "                 Close  Predictions\n",
       "Date                               \n",
       "2019-10-11  139.679993   144.558411\n",
       "2019-10-14  139.550003   144.816238\n",
       "2019-10-15  141.570007   145.100037\n",
       "2019-10-16  140.410004   145.548706\n",
       "2019-10-17  139.690002   145.937302\n",
       "...                ...          ...\n",
       "2021-09-13  296.989990   298.814392\n",
       "2021-09-14  299.790009   298.404297\n",
       "2021-09-15  304.820007   298.267792\n",
       "2021-09-16  305.220001   298.647705\n",
       "2021-09-17  299.869995   299.235352\n",
       "\n",
       "[488 rows x 2 columns]"
      ]
     },
     "execution_count": 33,
     "metadata": {},
     "output_type": "execute_result"
    }
   ],
   "source": [
    "# Show the valid and predicted prices\n",
    "valid"
   ]
  },
  {
   "cell_type": "code",
   "execution_count": 35,
   "metadata": {},
   "outputs": [
    {
     "name": "stdout",
     "output_type": "stream",
     "text": [
      "[[299.0708]]\n"
     ]
    }
   ],
   "source": [
    "# Get the quote\n",
    "stock_quote = web.DataReader(stock_ticker, data_source='yahoo', start='2012-01-01', end='2021-09-20')\n",
    "# Create a new dataframe\n",
    "new_df = stock_quote.filter(['Close'])\n",
    "# Get teh last 60 day closing price values and convert the dataframe to an array\n",
    "last_60_days = new_df[-60:].values\n",
    "last_60_days_scaled = scaler.transform(last_60_days)\n",
    "# Create an empty list\n",
    "X_test = []\n",
    "# Append the past 60 days\n",
    "X_test.append(last_60_days_scaled)\n",
    "# Convert the X_test data set to a numpy array\n",
    "X_test = np.array(X_test)\n",
    "# Reshape the data\n",
    "X_test = np.reshape(X_test, (X_test.shape[0], X_test.shape[1], 1))\n",
    "# Get the predicted scaled price\n",
    "pred_price = model.predict(X_test)\n",
    "# Undo the scaling\n",
    "pred_price = scaler.inverse_transform(pred_price)\n",
    "print(pred_price)"
   ]
  },
  {
   "cell_type": "code",
   "execution_count": 36,
   "metadata": {},
   "outputs": [
    {
     "name": "stdout",
     "output_type": "stream",
     "text": [
      "Date\n",
      "2021-09-20    294.299988\n",
      "Name: Close, dtype: float64\n"
     ]
    }
   ],
   "source": [
    "stock_quote2 = web.DataReader(stock_ticker, data_source='yahoo', start='2021-09-20', end='2021-09-20')\n",
    "print(stock_quote2['Close'])"
   ]
  },
  {
   "cell_type": "code",
   "execution_count": null,
   "metadata": {},
   "outputs": [],
   "source": []
  }
 ],
 "metadata": {
  "kernelspec": {
   "display_name": "Python 3",
   "language": "python",
   "name": "python3"
  },
  "language_info": {
   "codemirror_mode": {
    "name": "ipython",
    "version": 3
   },
   "file_extension": ".py",
   "mimetype": "text/x-python",
   "name": "python",
   "nbconvert_exporter": "python",
   "pygments_lexer": "ipython3",
   "version": "3.7.4"
  }
 },
 "nbformat": 4,
 "nbformat_minor": 2
}
